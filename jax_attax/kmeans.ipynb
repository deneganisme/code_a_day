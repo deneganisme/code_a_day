{
 "cells": [
  {
   "cell_type": "markdown",
   "source": [
    "Let's implement KMeans in JAX, nothing crazy -- just getting to know JAX and see how we can get speed-ups"
   ],
   "metadata": {
    "collapsed": false
   }
  },
  {
   "cell_type": "code",
   "execution_count": null,
   "outputs": [],
   "source": [
    "import jax.numpy as jnp\n",
    "from jax import random, vmap, jit\n",
    "import matplotlib.pyplot as plt\n",
    "\n",
    "%matplotlib inline"
   ],
   "metadata": {
    "collapsed": false
   }
  },
  {
   "cell_type": "code",
   "execution_count": null,
   "outputs": [],
   "source": [
    "import jax\n",
    "len(jax.local_devices())"
   ],
   "metadata": {
    "collapsed": false
   }
  },
  {
   "cell_type": "code",
   "execution_count": null,
   "outputs": [],
   "source": [
    "KEY = random.PRNGKey(42)"
   ],
   "metadata": {
    "collapsed": false
   }
  },
  {
   "cell_type": "code",
   "execution_count": null,
   "outputs": [],
   "source": [
    "from sklearn.datasets import make_blobs\n",
    "\n",
    "n_samples = 1500\n",
    "X, y = make_blobs(n_samples=n_samples, random_state=42)\n",
    "\n",
    "def standardize(x, mean, std):\n",
    "    return (x - mean) / std\n",
    "\n",
    "def normalize(x):\n",
    "    return (x-jnp.min(x))/(jnp.max(x)-jnp.min(x))\n",
    "\n",
    "X_mean = normalize(standardize(X, jnp.mean(X), jnp.std(X)))\n",
    "y_mean = normalize(standardize(y, jnp.mean(y), jnp.std(y)))\n",
    "\n",
    "# Model def\n",
    "kmeans = {\n",
    "    'prototypes': random.uniform(key=KEY, shape=(3, 2), minval=0, maxval=1)\n",
    "}\n",
    "\n",
    "plt.title(\"Mixture of Gaussian Blobs\")\n",
    "plt.scatter(X_mean[:, 0], X_mean[:, 1], c=y_mean)\n",
    "\n",
    "plt.scatter(kmeans['prototypes'][:, 0], kmeans['prototypes'][:, 1], c=['r','b','g'])"
   ],
   "metadata": {
    "collapsed": false
   }
  },
  {
   "cell_type": "markdown",
   "source": [
    "Sklearn baseline"
   ],
   "metadata": {
    "collapsed": false
   }
  },
  {
   "cell_type": "code",
   "execution_count": null,
   "outputs": [],
   "source": [
    "from sklearn.cluster import KMeans"
   ],
   "metadata": {
    "collapsed": false
   }
  },
  {
   "cell_type": "code",
   "execution_count": null,
   "outputs": [],
   "source": [
    "%%capture sklearn_time\n",
    "%%timeit\n",
    "KMeans(n_clusters=3, n_init='auto', random_state=42, max_iter=50, verbose=False).fit_predict(X_mean)"
   ],
   "metadata": {
    "collapsed": false
   }
  },
  {
   "cell_type": "code",
   "execution_count": null,
   "outputs": [],
   "source": [
    "# Blobs are colored corresponding to cluster assignment\n",
    "y_pred = KMeans(n_clusters=3, n_init='auto', random_state=42, max_iter=50, verbose=True).fit_predict(X_mean)\n",
    "plt.scatter(X[:, 0], X[:, 1], c=y_pred)"
   ],
   "metadata": {
    "collapsed": false
   }
  },
  {
   "cell_type": "markdown",
   "source": [
    "Onto JAX..."
   ],
   "metadata": {
    "collapsed": false
   }
  },
  {
   "cell_type": "code",
   "execution_count": null,
   "outputs": [],
   "source": [
    "@jit\n",
    "def dist(x, y):\n",
    "    return jnp.sqrt(jnp.sum(jnp.square(x - y), 1))\n",
    "\n",
    "@jit\n",
    "def binarize(a):\n",
    "    return a <= jnp.min(a)\n",
    "\n",
    "vdist = jit(vmap(dist, in_axes=(0, None), out_axes=0))\n",
    "vbin  = jit(vmap(binarize, in_axes=0, out_axes=1))\n",
    "\n",
    "d = vdist(X_mean, kmeans['prototypes'])\n",
    "m = vbin(d)"
   ],
   "metadata": {
    "collapsed": false
   }
  },
  {
   "cell_type": "code",
   "execution_count": null,
   "outputs": [],
   "source": [
    "%%timeit\n",
    "vdist(X_mean, kmeans['prototypes'])"
   ],
   "metadata": {
    "collapsed": false
   }
  },
  {
   "cell_type": "code",
   "execution_count": null,
   "outputs": [],
   "source": [
    "%%timeit\n",
    "# Transposing take 6x more time!\n",
    "vdist(X_mean, kmeans['prototypes']).T"
   ],
   "metadata": {
    "collapsed": false
   }
  },
  {
   "cell_type": "code",
   "execution_count": null,
   "outputs": [],
   "source": [
    "def step(params, x):\n",
    "    d = vdist(x, params['prototypes'])\n",
    "    min_ = jnp.argmin(d, 1)\n",
    "\n",
    "    for i in range(len(params['prototypes'])):\n",
    "        params['prototypes'] = params['prototypes'].at[i].set(jnp.mean(x[min_ == i], 0))\n",
    "\n",
    "    return params"
   ],
   "metadata": {
    "collapsed": false
   }
  },
  {
   "cell_type": "code",
   "execution_count": null,
   "outputs": [],
   "source": [
    "@jit\n",
    "def vec_step(params, x):\n",
    "    # TODO if we only have to use var once we don't have to declare it and can save time/saveMemoryError\n",
    "    # Compute distance and create binary matrix 3 x N where [i, j] = True means point j is closest to prototype i\n",
    "    bin_ = jnp.expand_dims(vbin(vdist(x, params['prototypes'])), -1)\n",
    "\n",
    "    # Stack X n_class times, zero out using binary mat to get valid examples only then re-compute prototypes\n",
    "    params['prototypes'] = jnp.divide(jnp.sum(jnp.stack([x] * 3, 0) * bin_, 1), bin_.sum(1))\n",
    "    return params\n",
    "\n",
    "# Run to let JIT trace\n",
    "vec_step(kmeans, X_mean)['prototypes'];"
   ],
   "metadata": {
    "collapsed": false
   }
  },
  {
   "cell_type": "markdown",
   "source": [
    "From running Sklearn verbose we can see it converges in 2 iterations we'll set our steps to 5\n",
    "_*TODO*_ implement early-stopping in future"
   ],
   "metadata": {
    "collapsed": false
   }
  },
  {
   "cell_type": "code",
   "execution_count": null,
   "outputs": [],
   "source": [
    "%%capture jax_no_op_time\n",
    "%%timeit\n",
    "kmeans = {'prototypes': random.uniform(key=KEY, shape=(3, 2), minval=0, maxval=1)}\n",
    "for _ in range(5):\n",
    "    kmeans = step(kmeans, X_mean)"
   ],
   "metadata": {
    "collapsed": false
   }
  },
  {
   "cell_type": "code",
   "execution_count": null,
   "outputs": [],
   "source": [
    "%%capture jax_op_time\n",
    "%%timeit\n",
    "kmeans = {'prototypes': random.uniform(key=KEY, shape=(3, 2), minval=0, maxval=1)}\n",
    "for _ in range(5):\n",
    "    kmeans = vec_step(kmeans, X_mean)"
   ],
   "metadata": {
    "collapsed": false
   }
  },
  {
   "cell_type": "code",
   "execution_count": null,
   "outputs": [],
   "source": [
    "print(f\"Sklearn:    \\t{sklearn_time.stdout}\"\n",
    "      f\"JAX (no-op):\\t{jax_no_op_time.stdout}\"\n",
    "      f\"JAX (op):   \\t{jax_op_time.stdout}\")"
   ],
   "metadata": {
    "collapsed": false
   }
  },
  {
   "cell_type": "markdown",
   "source": [
    "Run again outside of timeit to actually see results"
   ],
   "metadata": {
    "collapsed": false
   }
  },
  {
   "cell_type": "code",
   "execution_count": null,
   "outputs": [],
   "source": [
    "kmeans = {'prototypes': random.uniform(key=KEY, shape=(3, 2), minval=0, maxval=1)}\n",
    "\n",
    "for _ in range(5):\n",
    "    kmeans = vec_step(kmeans, X_mean)\n",
    "\n",
    "plt.title(\"Mixture of Gaussian Blobs\")\n",
    "plt.scatter(X_mean[:, 0], X_mean[:, 1], c=y_mean)\n",
    "\n",
    "# Here we just color the prototypes since we have access to them, given they're in the middle of each cluster you get the point (:\n",
    "plt.scatter(kmeans['prototypes'][:, 0], kmeans['prototypes'][:, 1], c=['r','b','g'])"
   ],
   "metadata": {
    "collapsed": false
   }
  },
  {
   "cell_type": "code",
   "execution_count": null,
   "outputs": [],
   "source": [],
   "metadata": {
    "collapsed": false
   }
  }
 ],
 "metadata": {
  "kernelspec": {
   "display_name": "Python 3",
   "language": "python",
   "name": "python3"
  },
  "language_info": {
   "codemirror_mode": {
    "name": "ipython",
    "version": 2
   },
   "file_extension": ".py",
   "mimetype": "text/x-python",
   "name": "python",
   "nbconvert_exporter": "python",
   "pygments_lexer": "ipython2",
   "version": "2.7.6"
  }
 },
 "nbformat": 4,
 "nbformat_minor": 0
}
