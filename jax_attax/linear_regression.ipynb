{
 "cells": [
  {
   "cell_type": "markdown",
   "source": [
    "# Dive into JAX by implementing old school ML algos\n",
    "# degan 05/17/23"
   ],
   "metadata": {
    "collapsed": false
   }
  },
  {
   "cell_type": "code",
   "execution_count": 2,
   "metadata": {
    "collapsed": true
   },
   "outputs": [],
   "source": [
    "import jax\n",
    "import jax.numpy as jnp\n",
    "from jax import random, grad, vmap\n",
    "import matplotlib.pyplot as plt\n",
    "\n",
    "%matplotlib inline"
   ]
  },
  {
   "cell_type": "code",
   "execution_count": 3,
   "outputs": [],
   "source": [
    "KEY = random.PRNGKey(42)\n",
    "N_SAMPLES = 100"
   ],
   "metadata": {
    "collapsed": false
   }
  },
  {
   "cell_type": "markdown",
   "source": [
    "# Data setup\n",
    "_Note_ We could in the future take advantage of `sklearn.datasets`'s `make_regression` and `train_test_split`"
   ],
   "metadata": {
    "collapsed": false
   }
  },
  {
   "cell_type": "code",
   "execution_count": 4,
   "outputs": [
    {
     "data": {
      "text/plain": "((100, 1), (100, 1))"
     },
     "execution_count": 4,
     "metadata": {},
     "output_type": "execute_result"
    }
   ],
   "source": [
    "def generate_data(n: int) -> tuple:\n",
    "    x = jnp.expand_dims(jnp.arange(n), -1)\n",
    "\n",
    "    rando_noise = random.uniform(KEY, (n,1), minval=-10, maxval=20)\n",
    "    y = 3.14 * x + rando_noise\n",
    "\n",
    "    return x, y\n",
    "\n",
    "x, y = generate_data(N_SAMPLES)\n",
    "x.shape, y.shape"
   ],
   "metadata": {
    "collapsed": false
   }
  },
  {
   "cell_type": "code",
   "execution_count": 5,
   "outputs": [
    {
     "data": {
      "text/plain": "<Figure size 640x480 with 1 Axes>",
      "image/png": "[encoded data removed]"
     },
     "metadata": {},
     "output_type": "display_data"
    }
   ],
   "source": [
    "# Sanity check!\n",
    "plt.title(\"Random Data\")\n",
    "plt.scatter(x=x, y=y);"
   ],
   "metadata": {
    "collapsed": false
   }
  },
  {
   "cell_type": "code",
   "execution_count": 20,
   "outputs": [
    {
     "data": {
      "text/plain": "Array([85, 83, 30, 66, 79, 59, 76,  7, 20, 19, 74, 77, 22, 38, 50, 93, 71,\n       21, 55, 99, 53, 78, 64, 84, 65, 61, 23, 57, 90,  0, 88, 14,  8, 29,\n       10, 26, 54, 48, 42, 94, 24, 67, 56, 95, 31,  6, 27,  1, 46, 63, 18,\n       72,  5, 69, 80, 44, 40, 13, 34,  3, 25, 32, 89, 16, 75, 36, 17, 37,\n       82, 62, 86, 58, 15,  2, 97, 33, 68,  9, 12, 96, 49, 70, 92, 11, 43,\n        4, 81, 87, 51, 91, 47, 60, 98, 45, 52, 73, 41, 35, 39, 28],      dtype=int32)"
     },
     "execution_count": 20,
     "metadata": {},
     "output_type": "execute_result"
    }
   ],
   "source": [
    "idxs = random.permutation(KEY, jnp.arange(N_SAMPLES), independent=True)\n",
    "\n",
    "x = x[idxs]\n",
    "y = y[idxs]\n",
    "\n",
    "idxs"
   ],
   "metadata": {
    "collapsed": false
   }
  },
  {
   "cell_type": "code",
   "execution_count": 8,
   "outputs": [],
   "source": [
    "train_pct = 0.7\n",
    "test_pct  = 0.15\n",
    "val_pct   = 0.15\n",
    "\n",
    "assert train_pct + test_pct + val_pct == 1."
   ],
   "metadata": {
    "collapsed": false
   }
  },
  {
   "cell_type": "code",
   "execution_count": 9,
   "outputs": [],
   "source": [
    "train_start = 0\n",
    "train_end   = int(train_pct * N_SAMPLES)\n",
    "\n",
    "val_start = train_end\n",
    "val_end   = int((train_pct + val_pct) * N_SAMPLES)\n",
    "\n",
    "test_start = val_end"
   ],
   "metadata": {
    "collapsed": false
   }
  },
  {
   "cell_type": "code",
   "execution_count": 10,
   "outputs": [],
   "source": [
    "x_train = x[train_start:train_end]\n",
    "y_train = y[train_start:train_end]\n",
    "\n",
    "x_val = x[val_start:val_end]\n",
    "y_val = y[val_start:val_end]\n",
    "\n",
    "x_test = x[val_end:]\n",
    "y_test = y[val_end:]"
   ],
   "metadata": {
    "collapsed": false
   }
  },
  {
   "cell_type": "markdown",
   "source": [
    "### Standardize data"
   ],
   "metadata": {
    "collapsed": false
   }
  },
  {
   "cell_type": "code",
   "execution_count": 11,
   "outputs": [],
   "source": [
    "def standardize(x, mean, std):\n",
    "    return (x - mean) / std"
   ],
   "metadata": {
    "collapsed": false
   }
  },
  {
   "cell_type": "code",
   "execution_count": 13,
   "outputs": [],
   "source": [
    "# We are not allowed to peak at val/test so use train  for mean / std\n",
    "x_mean, x_std = jnp.mean(x_train), jnp.std(x_train)\n",
    "y_mean, y_std = jnp.mean(y_train), jnp.std(y_train)\n",
    "\n",
    "x_train = standardize(x_train, x_mean, x_std)\n",
    "x_val   = standardize(x_val, x_mean, x_std)\n",
    "x_test  = standardize(x_test, x_mean, x_std)\n",
    "\n",
    "y_train = standardize(y_train, y_mean, y_std)\n",
    "y_val   = standardize(y_val, y_mean, y_std)\n",
    "y_test  = standardize(y_test, y_mean, y_std)"
   ],
   "metadata": {
    "collapsed": false
   }
  },
  {
   "cell_type": "code",
   "execution_count": 14,
   "outputs": [
    {
     "data": {
      "text/plain": "((70, 1), (70, 1))"
     },
     "execution_count": 14,
     "metadata": {},
     "output_type": "execute_result"
    }
   ],
   "source": [
    "x_train.shape, y_train.shape"
   ],
   "metadata": {
    "collapsed": false
   }
  },
  {
   "cell_type": "markdown",
   "source": [
    "# Model and train"
   ],
   "metadata": {
    "collapsed": false
   }
  },
  {
   "cell_type": "code",
   "execution_count": 15,
   "outputs": [],
   "source": [
    "class LinearRegression:\n",
    "\n",
    "    def __init__(self, input_dim: int, output_dim: int):\n",
    "        self.params = {\n",
    "            'w': random.normal(KEY, (input_dim, output_dim)),\n",
    "            'b': jnp.zeros((input_dim, output_dim))\n",
    "        }\n",
    "\n",
    "        self.forward  = lambda params, x: jnp.dot(x, params['w']) + params['b']\n",
    "        self.mse_loss = lambda params, x, y: jnp.mean(jnp.square(y - self.forward(params, x)))\n",
    "        self.grad_fn  = grad(self.mse_loss)\n",
    "\n",
    "    def __call__(self, *args, **kwargs):\n",
    "        return self.forward(*args, **kwargs)\n",
    "\n",
    "    def step(self, x, y, debug: bool = False):\n",
    "\n",
    "        b_w, b_b = self.params['w'], self.params['b']\n",
    "        self.params = jax.tree_map(lambda p, g: p - 0.05 * g, self.params, self.grad_fn(self.params, x, y))\n",
    "\n",
    "        if debug:\n",
    "            print(f\"Params before: {b_w} {b_b}\\n\"\n",
    "                  f\"Params after : {self.params}\")"
   ],
   "metadata": {
    "collapsed": false
   }
  },
  {
   "cell_type": "code",
   "execution_count": 16,
   "outputs": [
    {
     "data": {
      "text/plain": "(Array([[-0.18471177]], dtype=float32), Array([[0.]], dtype=float32))"
     },
     "execution_count": 16,
     "metadata": {},
     "output_type": "execute_result"
    }
   ],
   "source": [
    "lr = LinearRegression(x_train.shape[1], y_train.shape[1])\n",
    "lr.params['w'], lr.params['b']"
   ],
   "metadata": {
    "collapsed": false
   }
  },
  {
   "cell_type": "code",
   "execution_count": 17,
   "outputs": [
    {
     "name": "stdout",
     "output_type": "stream",
     "text": [
      "Early stop\n",
      "CPU times: user 900 ms, sys: 11.5 ms, total: 912 ms\n",
      "Wall time: 918 ms\n"
     ]
    }
   ],
   "source": [
    "%%time\n",
    "prev_loss = 0\n",
    "for _ in range(1000):\n",
    "    loss = lr.loss(lr.params, x_val, y_val)\n",
    "    if loss == prev_loss:\n",
    "        print(\"Early stop\")\n",
    "        break\n",
    "    else:\n",
    "        prev_loss = loss\n",
    "\n",
    "    lr.step(x_train, y_train)"
   ],
   "metadata": {
    "collapsed": false
   }
  },
  {
   "cell_type": "code",
   "execution_count": 18,
   "outputs": [
    {
     "data": {
      "text/plain": "<matplotlib.collections.PathCollection at 0x7ff01bf62cd0>"
     },
     "execution_count": 18,
     "metadata": {},
     "output_type": "execute_result"
    },
    {
     "data": {
      "text/plain": "<Figure size 640x480 with 1 Axes>",
      "image/png": "[encoded data removed]"
     },
     "metadata": {},
     "output_type": "display_data"
    }
   ],
   "source": [
    "pred_test = lr.params['w'] * x_test + lr.params['b']\n",
    "plt.plot(x_test, pred_test)\n",
    "plt.scatter(x_test, y_test)"
   ],
   "metadata": {
    "collapsed": false
   }
  },
  {
   "cell_type": "code",
   "execution_count": 18,
   "outputs": [],
   "source": [],
   "metadata": {
    "collapsed": false
   }
  }
 ],
 "metadata": {
  "kernelspec": {
   "display_name": "Python 3",
   "language": "python",
   "name": "python3"
  },
  "language_info": {
   "codemirror_mode": {
    "name": "ipython",
    "version": 2
   },
   "file_extension": ".py",
   "mimetype": "text/x-python",
   "name": "python",
   "nbconvert_exporter": "python",
   "pygments_lexer": "ipython2",
   "version": "2.7.6"
  }
 },
 "nbformat": 4,
 "nbformat_minor": 0
}
